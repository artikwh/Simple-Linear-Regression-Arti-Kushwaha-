{
  "nbformat": 4,
  "nbformat_minor": 0,
  "metadata": {
    "colab": {
      "name": "Simple_Linear_Regression.ipynb",
      "provenance": [],
      "collapsed_sections": [],
      "include_colab_link": true
    },
    "kernelspec": {
      "name": "python3",
      "display_name": "Python 3"
    }
  },
  "cells": [
    {
      "cell_type": "markdown",
      "metadata": {
        "id": "view-in-github",
        "colab_type": "text"
      },
      "source": [
        "<a href=\"https://colab.research.google.com/github/artikwh/Simple-Linear-Regression-Arti-Kushwaha-/blob/main/Simple_Linear_Regression.ipynb\" target=\"_parent\"><img src=\"https://colab.research.google.com/assets/colab-badge.svg\" alt=\"Open In Colab\"/></a>"
      ]
    },
    {
      "cell_type": "markdown",
      "metadata": {
        "id": "GzfdMfk10NE6"
      },
      "source": [
        "# **Name : Arti Kushwaha**\n",
        "## **Simple Linear Regression Algorithm**\n",
        "Here we will use Scikit_Learn library to implement regression algorithm. We will start with simple linear regression model involving two variables.\n",
        "\n",
        "In this task, we will predict the percentage of marks of a student when the number of hours they studied are given."
      ]
    },
    {
      "cell_type": "markdown",
      "metadata": {
        "id": "vhixgT-kYoyN"
      },
      "source": [
        "**1. Importing required libraries:**"
      ]
    },
    {
      "cell_type": "code",
      "metadata": {
        "id": "V9QN2ZxC38pB"
      },
      "source": [
        "import pandas as pd\n",
        "import numpy as np  \n",
        "import matplotlib.pyplot as plt  \n",
        "%matplotlib inline"
      ],
      "execution_count": null,
      "outputs": []
    },
    {
      "cell_type": "markdown",
      "metadata": {
        "id": "HG-iP50XZVC6"
      },
      "source": [
        "**2. Loading data from remote CSV file link**"
      ]
    },
    {
      "cell_type": "code",
      "metadata": {
        "id": "LtU4YMEhqm9m",
        "colab": {
          "base_uri": "https://localhost:8080/",
          "height": 224
        },
        "outputId": "bac6c569-e899-40a3-c6cf-a0fabdf138a0"
      },
      "source": [
        "Link = \"http://bit.ly/w-data\"\n",
        "data = pd.read_csv(Link)\n",
        "print(\"Data Loaded successfully\")\n",
        "\n",
        "data.head()"
      ],
      "execution_count": null,
      "outputs": [
        {
          "output_type": "stream",
          "text": [
            "Data Loaded successfully\n"
          ],
          "name": "stdout"
        },
        {
          "output_type": "execute_result",
          "data": {
            "text/html": [
              "<div>\n",
              "<style scoped>\n",
              "    .dataframe tbody tr th:only-of-type {\n",
              "        vertical-align: middle;\n",
              "    }\n",
              "\n",
              "    .dataframe tbody tr th {\n",
              "        vertical-align: top;\n",
              "    }\n",
              "\n",
              "    .dataframe thead th {\n",
              "        text-align: right;\n",
              "    }\n",
              "</style>\n",
              "<table border=\"1\" class=\"dataframe\">\n",
              "  <thead>\n",
              "    <tr style=\"text-align: right;\">\n",
              "      <th></th>\n",
              "      <th>Hours</th>\n",
              "      <th>Scores</th>\n",
              "    </tr>\n",
              "  </thead>\n",
              "  <tbody>\n",
              "    <tr>\n",
              "      <th>0</th>\n",
              "      <td>2.5</td>\n",
              "      <td>21</td>\n",
              "    </tr>\n",
              "    <tr>\n",
              "      <th>1</th>\n",
              "      <td>5.1</td>\n",
              "      <td>47</td>\n",
              "    </tr>\n",
              "    <tr>\n",
              "      <th>2</th>\n",
              "      <td>3.2</td>\n",
              "      <td>27</td>\n",
              "    </tr>\n",
              "    <tr>\n",
              "      <th>3</th>\n",
              "      <td>8.5</td>\n",
              "      <td>75</td>\n",
              "    </tr>\n",
              "    <tr>\n",
              "      <th>4</th>\n",
              "      <td>3.5</td>\n",
              "      <td>30</td>\n",
              "    </tr>\n",
              "  </tbody>\n",
              "</table>\n",
              "</div>"
            ],
            "text/plain": [
              "   Hours  Scores\n",
              "0    2.5      21\n",
              "1    5.1      47\n",
              "2    3.2      27\n",
              "3    8.5      75\n",
              "4    3.5      30"
            ]
          },
          "metadata": {
            "tags": []
          },
          "execution_count": 42
        }
      ]
    },
    {
      "cell_type": "code",
      "metadata": {
        "id": "Vgv0NwCrcUUK",
        "colab": {
          "base_uri": "https://localhost:8080/"
        },
        "outputId": "e7cc7de3-ac06-4db0-c5b1-cc37b276baf8"
      },
      "source": [
        "data.shape"
      ],
      "execution_count": null,
      "outputs": [
        {
          "output_type": "execute_result",
          "data": {
            "text/plain": [
              "(25, 2)"
            ]
          },
          "metadata": {
            "tags": []
          },
          "execution_count": 43
        }
      ]
    },
    {
      "cell_type": "code",
      "metadata": {
        "id": "gDdGR0PocbOe",
        "colab": {
          "base_uri": "https://localhost:8080/",
          "height": 300
        },
        "outputId": "6a9caac6-31ef-4557-e36b-2619b0ec9de6"
      },
      "source": [
        "data.describe()"
      ],
      "execution_count": null,
      "outputs": [
        {
          "output_type": "execute_result",
          "data": {
            "text/html": [
              "<div>\n",
              "<style scoped>\n",
              "    .dataframe tbody tr th:only-of-type {\n",
              "        vertical-align: middle;\n",
              "    }\n",
              "\n",
              "    .dataframe tbody tr th {\n",
              "        vertical-align: top;\n",
              "    }\n",
              "\n",
              "    .dataframe thead th {\n",
              "        text-align: right;\n",
              "    }\n",
              "</style>\n",
              "<table border=\"1\" class=\"dataframe\">\n",
              "  <thead>\n",
              "    <tr style=\"text-align: right;\">\n",
              "      <th></th>\n",
              "      <th>Hours</th>\n",
              "      <th>Scores</th>\n",
              "    </tr>\n",
              "  </thead>\n",
              "  <tbody>\n",
              "    <tr>\n",
              "      <th>count</th>\n",
              "      <td>25.000000</td>\n",
              "      <td>25.000000</td>\n",
              "    </tr>\n",
              "    <tr>\n",
              "      <th>mean</th>\n",
              "      <td>5.012000</td>\n",
              "      <td>51.480000</td>\n",
              "    </tr>\n",
              "    <tr>\n",
              "      <th>std</th>\n",
              "      <td>2.525094</td>\n",
              "      <td>25.286887</td>\n",
              "    </tr>\n",
              "    <tr>\n",
              "      <th>min</th>\n",
              "      <td>1.100000</td>\n",
              "      <td>17.000000</td>\n",
              "    </tr>\n",
              "    <tr>\n",
              "      <th>25%</th>\n",
              "      <td>2.700000</td>\n",
              "      <td>30.000000</td>\n",
              "    </tr>\n",
              "    <tr>\n",
              "      <th>50%</th>\n",
              "      <td>4.800000</td>\n",
              "      <td>47.000000</td>\n",
              "    </tr>\n",
              "    <tr>\n",
              "      <th>75%</th>\n",
              "      <td>7.400000</td>\n",
              "      <td>75.000000</td>\n",
              "    </tr>\n",
              "    <tr>\n",
              "      <th>max</th>\n",
              "      <td>9.200000</td>\n",
              "      <td>95.000000</td>\n",
              "    </tr>\n",
              "  </tbody>\n",
              "</table>\n",
              "</div>"
            ],
            "text/plain": [
              "           Hours     Scores\n",
              "count  25.000000  25.000000\n",
              "mean    5.012000  51.480000\n",
              "std     2.525094  25.286887\n",
              "min     1.100000  17.000000\n",
              "25%     2.700000  30.000000\n",
              "50%     4.800000  47.000000\n",
              "75%     7.400000  75.000000\n",
              "max     9.200000  95.000000"
            ]
          },
          "metadata": {
            "tags": []
          },
          "execution_count": 44
        }
      ]
    },
    {
      "cell_type": "markdown",
      "metadata": {
        "id": "RHsPneuM4NgB"
      },
      "source": [
        "**3. Plotting of Data to see relationship between the data points using matplotlib library.**"
      ]
    },
    {
      "cell_type": "code",
      "metadata": {
        "id": "qxYBZkhAqpn9",
        "colab": {
          "base_uri": "https://localhost:8080/",
          "height": 295
        },
        "outputId": "5d79d178-98ed-4d9a-f002-4d0b485e8d29"
      },
      "source": [
        "data.plot(x='Hours', y='Scores', style='og')  \n",
        "plt.title('Relationship between Hours Studied and Percentage Scored')  \n",
        "plt.xlabel('No. of Hours Studied')  \n",
        "plt.ylabel('Percentage Scored by Student')\n",
        "plt.grid()  \n",
        "plt.show()"
      ],
      "execution_count": null,
      "outputs": [
        {
          "output_type": "display_data",
          "data": {
            "image/png": "[encoded data removed]",
            "text/plain": [
              "<Figure size 432x288 with 1 Axes>"
            ]
          },
          "metadata": {
            "tags": [],
            "needs_background": "light"
          }
        }
      ]
    },
    {
      "cell_type": "markdown",
      "metadata": {
        "id": "fiQaULio4Rzr"
      },
      "source": [
        "**In the above graph, percentage scored are linearly increasing with the number of hours studied so we can conclude that there is a linear positive relationship between the number of hours studied and percentage of score.**"
      ]
    },
    {
      "cell_type": "markdown",
      "metadata": {
        "id": "WWtEr64M4jdz"
      },
      "source": [
        "**4. Dividing the data into input(X) and Output(Y)**\n"
      ]
    },
    {
      "cell_type": "code",
      "metadata": {
        "id": "LiJ5210e4tNX"
      },
      "source": [
        "x = data.iloc[:, :1].values  \n",
        "y = data.iloc[:, 1:].values  "
      ],
      "execution_count": null,
      "outputs": []
    },
    {
      "cell_type": "code",
      "metadata": {
        "colab": {
          "base_uri": "https://localhost:8080/"
        },
        "id": "mxKhG7U3-iSh",
        "outputId": "ea2e1d7b-540e-4b4f-b85f-0d7e170db53f"
      },
      "source": [
        "x"
      ],
      "execution_count": null,
      "outputs": [
        {
          "output_type": "execute_result",
          "data": {
            "text/plain": [
              "array([[2.5],\n",
              "       [5.1],\n",
              "       [3.2],\n",
              "       [8.5],\n",
              "       [3.5],\n",
              "       [1.5],\n",
              "       [9.2],\n",
              "       [5.5],\n",
              "       [8.3],\n",
              "       [2.7],\n",
              "       [7.7],\n",
              "       [5.9],\n",
              "       [4.5],\n",
              "       [3.3],\n",
              "       [1.1],\n",
              "       [8.9],\n",
              "       [2.5],\n",
              "       [1.9],\n",
              "       [6.1],\n",
              "       [7.4],\n",
              "       [2.7],\n",
              "       [4.8],\n",
              "       [3.8],\n",
              "       [6.9],\n",
              "       [7.8]])"
            ]
          },
          "metadata": {
            "tags": []
          },
          "execution_count": 47
        }
      ]
    },
    {
      "cell_type": "code",
      "metadata": {
        "colab": {
          "base_uri": "https://localhost:8080/"
        },
        "id": "3zlZSt_d-rrr",
        "outputId": "92c4ffaa-1ab5-4aec-9cc4-f120c4b3daf3"
      },
      "source": [
        "y"
      ],
      "execution_count": null,
      "outputs": [
        {
          "output_type": "execute_result",
          "data": {
            "text/plain": [
              "array([[21],\n",
              "       [47],\n",
              "       [27],\n",
              "       [75],\n",
              "       [30],\n",
              "       [20],\n",
              "       [88],\n",
              "       [60],\n",
              "       [81],\n",
              "       [25],\n",
              "       [85],\n",
              "       [62],\n",
              "       [41],\n",
              "       [42],\n",
              "       [17],\n",
              "       [95],\n",
              "       [30],\n",
              "       [24],\n",
              "       [67],\n",
              "       [69],\n",
              "       [30],\n",
              "       [54],\n",
              "       [35],\n",
              "       [76],\n",
              "       [86]])"
            ]
          },
          "metadata": {
            "tags": []
          },
          "execution_count": 48
        }
      ]
    },
    {
      "cell_type": "markdown",
      "metadata": {
        "id": "Riz-ZiZ34fO4"
      },
      "source": [
        "**5. Splitting the data into training and test sets using Scikit_Learn's built-in train_test_split() method**"
      ]
    },
    {
      "cell_type": "code",
      "metadata": {
        "id": "udFYso1M4BNw"
      },
      "source": [
        "from sklearn.model_selection import train_test_split  \n",
        "x_train, x_test, y_train, y_test = train_test_split(x, y, \n",
        "                            test_size=0.3, random_state=0) "
      ],
      "execution_count": null,
      "outputs": []
    },
    {
      "cell_type": "markdown",
      "metadata": {
        "id": "a6WXptFU5CkC"
      },
      "source": [
        "**6. Import and Train the Linear Regression Model**\n"
      ]
    },
    {
      "cell_type": "code",
      "metadata": {
        "id": "qddCuaS84fpK",
        "colab": {
          "base_uri": "https://localhost:8080/"
        },
        "outputId": "0bd3cc22-8ec6-4ea2-e76e-bdd47a4c232a"
      },
      "source": [
        "from sklearn.linear_model import LinearRegression  \n",
        "model = LinearRegression()  \n",
        "model.fit(x_train, y_train) \n",
        "\n",
        "print(\"Training complete.\")"
      ],
      "execution_count": null,
      "outputs": [
        {
          "output_type": "stream",
          "text": [
            "Training complete.\n"
          ],
          "name": "stdout"
        }
      ]
    },
    {
      "cell_type": "markdown",
      "metadata": {
        "id": "VFfhJPenNYgY"
      },
      "source": [
        "**7. Plotting the Best-fit line or Regression line**"
      ]
    },
    {
      "cell_type": "code",
      "metadata": {
        "id": "J61NX2_2-px7",
        "colab": {
          "base_uri": "https://localhost:8080/",
          "height": 265
        },
        "outputId": "33af81f6-0fe0-450a-d3df-868ce29ce341"
      },
      "source": [
        "regression_line = model.coef_*x+model.intercept_    # y = m*x + c\n",
        "plt.scatter(x, y, color='y')\n",
        "plt.plot(x, line, color= 'g')\n",
        "plt.grid()\n",
        "plt.show()"
      ],
      "execution_count": null,
      "outputs": [
        {
          "output_type": "display_data",
          "data": {
            "image/png": "[encoded data removed]",
            "text/plain": [
              "<Figure size 432x288 with 1 Axes>"
            ]
          },
          "metadata": {
            "tags": [],
            "needs_background": "light"
          }
        }
      ]
    },
    {
      "cell_type": "markdown",
      "metadata": {
        "id": "JCQn-g4m5OK2"
      },
      "source": [
        "**8. Predict the output on test data**\n"
      ]
    },
    {
      "cell_type": "code",
      "metadata": {
        "id": "Tt-Fmzu55EGM"
      },
      "source": [
        "y_pred = model.predict(x_test) "
      ],
      "execution_count": null,
      "outputs": []
    },
    {
      "cell_type": "code",
      "metadata": {
        "id": "6bmZUMZh5QLb",
        "colab": {
          "base_uri": "https://localhost:8080/",
          "height": 300
        },
        "outputId": "fdbbd1c5-23a1-4b40-f27e-0ba9649fcb17"
      },
      "source": [
        "results = pd.DataFrame({'Actual Scores': y_test.ravel(), 'Predicted Scores': y_pred.ravel()})  \n",
        "results "
      ],
      "execution_count": null,
      "outputs": [
        {
          "output_type": "execute_result",
          "data": {
            "text/html": [
              "<div>\n",
              "<style scoped>\n",
              "    .dataframe tbody tr th:only-of-type {\n",
              "        vertical-align: middle;\n",
              "    }\n",
              "\n",
              "    .dataframe tbody tr th {\n",
              "        vertical-align: top;\n",
              "    }\n",
              "\n",
              "    .dataframe thead th {\n",
              "        text-align: right;\n",
              "    }\n",
              "</style>\n",
              "<table border=\"1\" class=\"dataframe\">\n",
              "  <thead>\n",
              "    <tr style=\"text-align: right;\">\n",
              "      <th></th>\n",
              "      <th>Actual Scores</th>\n",
              "      <th>Predicted Scores</th>\n",
              "    </tr>\n",
              "  </thead>\n",
              "  <tbody>\n",
              "    <tr>\n",
              "      <th>0</th>\n",
              "      <td>20</td>\n",
              "      <td>17.053665</td>\n",
              "    </tr>\n",
              "    <tr>\n",
              "      <th>1</th>\n",
              "      <td>27</td>\n",
              "      <td>33.694229</td>\n",
              "    </tr>\n",
              "    <tr>\n",
              "      <th>2</th>\n",
              "      <td>69</td>\n",
              "      <td>74.806209</td>\n",
              "    </tr>\n",
              "    <tr>\n",
              "      <th>3</th>\n",
              "      <td>30</td>\n",
              "      <td>26.842232</td>\n",
              "    </tr>\n",
              "    <tr>\n",
              "      <th>4</th>\n",
              "      <td>62</td>\n",
              "      <td>60.123359</td>\n",
              "    </tr>\n",
              "    <tr>\n",
              "      <th>5</th>\n",
              "      <td>35</td>\n",
              "      <td>39.567369</td>\n",
              "    </tr>\n",
              "    <tr>\n",
              "      <th>6</th>\n",
              "      <td>24</td>\n",
              "      <td>20.969092</td>\n",
              "    </tr>\n",
              "    <tr>\n",
              "      <th>7</th>\n",
              "      <td>86</td>\n",
              "      <td>78.721636</td>\n",
              "    </tr>\n",
              "  </tbody>\n",
              "</table>\n",
              "</div>"
            ],
            "text/plain": [
              "   Actual Scores  Predicted Scores\n",
              "0             20         17.053665\n",
              "1             27         33.694229\n",
              "2             69         74.806209\n",
              "3             30         26.842232\n",
              "4             62         60.123359\n",
              "5             35         39.567369\n",
              "6             24         20.969092\n",
              "7             86         78.721636"
            ]
          },
          "metadata": {
            "tags": []
          },
          "execution_count": 53
        }
      ]
    },
    {
      "cell_type": "markdown",
      "metadata": {
        "id": "aQy3VkWNQl9j"
      },
      "source": [
        "**Predict Score if Student studies for 9.25 hours**"
      ]
    },
    {
      "cell_type": "code",
      "metadata": {
        "id": "KAFO8zbx-AH1",
        "colab": {
          "base_uri": "https://localhost:8080/"
        },
        "outputId": "362d067d-e59b-447d-ce9a-c9f625572e7e"
      },
      "source": [
        "hours = 9.25\n",
        "hours_array = np.array(hours).reshape(1, -1)\n",
        "output = model.predict(hours_array)\n",
        "print(\"Number of Hours = {}\".format(hours))\n",
        "print(\"Predicted Score = {}\".format(output[0][0]))"
      ],
      "execution_count": null,
      "outputs": [
        {
          "output_type": "stream",
          "text": [
            "Number of Hours = 9.25\n",
            "Predicted Score = 92.91505723477056\n"
          ],
          "name": "stdout"
        }
      ]
    },
    {
      "cell_type": "markdown",
      "metadata": {
        "id": "0AAsPVA_6KmK"
      },
      "source": [
        "**8. Evaluate the model to check performance using mean_absolute_error**\n",
        "\n"
      ]
    },
    {
      "cell_type": "code",
      "metadata": {
        "id": "r5UOrRH-5VCQ",
        "colab": {
          "base_uri": "https://localhost:8080/"
        },
        "outputId": "cf256e94-a861-4851-c6b4-0cb3da49471d"
      },
      "source": [
        "from sklearn import metrics \n",
        "error =  metrics.mean_absolute_error(y_test, y_pred)\n",
        "print('Mean Absolute Error:', error) "
      ],
      "execution_count": null,
      "outputs": [
        {
          "output_type": "stream",
          "text": [
            "Mean Absolute Error: 4.419727808027651\n"
          ],
          "name": "stdout"
        }
      ]
    }
  ]
}